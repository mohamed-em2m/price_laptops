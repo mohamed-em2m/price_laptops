{
 "cells": [
  {
   "cell_type": "code",
   "execution_count": 1,
   "id": "d7824e79",
   "metadata": {
    "execution": {
     "iopub.execute_input": "2023-05-16T05:03:29.683071Z",
     "iopub.status.busy": "2023-05-16T05:03:29.682634Z",
     "iopub.status.idle": "2023-05-16T05:03:29.694788Z",
     "shell.execute_reply": "2023-05-16T05:03:29.693669Z"
    },
    "papermill": {
     "duration": 0.029526,
     "end_time": "2023-05-16T05:03:29.697477",
     "exception": false,
     "start_time": "2023-05-16T05:03:29.667951",
     "status": "completed"
    },
    "tags": []
   },
   "outputs": [],
   "source": [
    "import warnings\n",
    "# Disable all warnings\n",
    "warnings.filterwarnings(\"ignore\")"
   ]
  },
  {
   "cell_type": "code",
   "execution_count": 2,
   "id": "51f77a6f",
   "metadata": {
    "_cell_guid": "b1076dfc-b9ad-4769-8c92-a6c4dae69d19",
    "_uuid": "8f2839f25d086af736a60e9eeb907d3b93b6e0e5",
    "execution": {
     "iopub.execute_input": "2023-05-16T05:03:29.724581Z",
     "iopub.status.busy": "2023-05-16T05:03:29.724113Z",
     "iopub.status.idle": "2023-05-16T05:03:32.103349Z",
     "shell.execute_reply": "2023-05-16T05:03:32.102110Z"
    },
    "papermill": {
     "duration": 2.396125,
     "end_time": "2023-05-16T05:03:32.106195",
     "exception": false,
     "start_time": "2023-05-16T05:03:29.710070",
     "status": "completed"
    },
    "tags": []
   },
   "outputs": [],
   "source": [
    "import numpy as np\n",
    "from sklearn.neighbors import KNeighborsRegressor\n",
    "import matplotlib.pyplot as plt\n",
    "import pandas as pd\n",
    "import seaborn as sns\n",
    "from sklearn.pipeline import Pipeline\n",
    "import numpy as np\n",
    "# for building linear regr}ession models and preparing data\n",
    "from sklearn.linear_model import LinearRegression ,LogisticRegression,RidgeCV,Lasso,Ridge\n",
    "from sklearn.preprocessing import StandardScaler, PolynomialFeatures, OrdinalEncoder,MinMaxScaler,StandardScaler,LabelEncoder\n",
    "from sklearn.model_selection import train_test_split,cross_validate\n",
    "from sklearn.metrics import mean_squared_error\n",
    "from xgboost import *\n",
    "from sklearn.svm import SVR\n",
    "from sklearn.metrics import silhouette_score\n",
    "from sklearn.impute import KNNImputer,SimpleImputer\n",
    "from sklearn.feature_selection import SelectFromModel\n",
    "from sklearn.model_selection import GridSearchCV ,cross_val_score,ShuffleSplit\n",
    "from sklearn.ensemble import ExtraTreesRegressor,GradientBoostingRegressor,RandomForestRegressor,AdaBoostRegressor,BaggingRegressor"
   ]
  },
  {
   "cell_type": "code",
   "execution_count": 3,
   "id": "85c4c953",
   "metadata": {
    "execution": {
     "iopub.execute_input": "2023-05-16T05:03:32.133673Z",
     "iopub.status.busy": "2023-05-16T05:03:32.133289Z",
     "iopub.status.idle": "2023-05-16T05:03:32.173588Z",
     "shell.execute_reply": "2023-05-16T05:03:32.172624Z"
    },
    "papermill": {
     "duration": 0.05695,
     "end_time": "2023-05-16T05:03:32.176130",
     "exception": false,
     "start_time": "2023-05-16T05:03:32.119180",
     "status": "completed"
    },
    "tags": []
   },
   "outputs": [],
   "source": [
    "data = pd.read_csv('/kaggle/input/laptop-price/laptop_price.csv', encoding=\"ISO-8859-1\")"
   ]
  },
  {
   "cell_type": "code",
   "execution_count": 4,
   "id": "e94fe712",
   "metadata": {
    "execution": {
     "iopub.execute_input": "2023-05-16T05:03:32.203143Z",
     "iopub.status.busy": "2023-05-16T05:03:32.202520Z",
     "iopub.status.idle": "2023-05-16T05:03:32.212820Z",
     "shell.execute_reply": "2023-05-16T05:03:32.211858Z"
    },
    "papermill": {
     "duration": 0.026671,
     "end_time": "2023-05-16T05:03:32.215341",
     "exception": false,
     "start_time": "2023-05-16T05:03:32.188670",
     "status": "completed"
    },
    "tags": []
   },
   "outputs": [],
   "source": [
    "data=data.sample(len(data))"
   ]
  },
  {
   "cell_type": "code",
   "execution_count": 5,
   "id": "b0b07eef",
   "metadata": {
    "execution": {
     "iopub.execute_input": "2023-05-16T05:03:32.242179Z",
     "iopub.status.busy": "2023-05-16T05:03:32.241527Z",
     "iopub.status.idle": "2023-05-16T05:03:32.263984Z",
     "shell.execute_reply": "2023-05-16T05:03:32.262909Z"
    },
    "papermill": {
     "duration": 0.038816,
     "end_time": "2023-05-16T05:03:32.266526",
     "exception": false,
     "start_time": "2023-05-16T05:03:32.227710",
     "status": "completed"
    },
    "tags": []
   },
   "outputs": [
    {
     "data": {
      "text/plain": [
       "laptop_ID           0\n",
       "Company             0\n",
       "Product             0\n",
       "TypeName            0\n",
       "Inches              0\n",
       "ScreenResolution    0\n",
       "Cpu                 0\n",
       "Ram                 0\n",
       "Memory              0\n",
       "Gpu                 0\n",
       "OpSys               0\n",
       "Weight              0\n",
       "Price_euros         0\n",
       "dtype: int64"
      ]
     },
     "execution_count": 5,
     "metadata": {},
     "output_type": "execute_result"
    }
   ],
   "source": [
    "data.isnull().sum()"
   ]
  },
  {
   "cell_type": "code",
   "execution_count": 6,
   "id": "a9053cf2",
   "metadata": {
    "execution": {
     "iopub.execute_input": "2023-05-16T05:03:32.293950Z",
     "iopub.status.busy": "2023-05-16T05:03:32.293534Z",
     "iopub.status.idle": "2023-05-16T05:03:32.305975Z",
     "shell.execute_reply": "2023-05-16T05:03:32.304858Z"
    },
    "papermill": {
     "duration": 0.029075,
     "end_time": "2023-05-16T05:03:32.308407",
     "exception": false,
     "start_time": "2023-05-16T05:03:32.279332",
     "status": "completed"
    },
    "tags": []
   },
   "outputs": [
    {
     "data": {
      "text/plain": [
       "0"
      ]
     },
     "execution_count": 6,
     "metadata": {},
     "output_type": "execute_result"
    }
   ],
   "source": [
    "data.isnull().any(axis=1).sum()"
   ]
  },
  {
   "cell_type": "code",
   "execution_count": 7,
   "id": "9b8eecfb",
   "metadata": {
    "execution": {
     "iopub.execute_input": "2023-05-16T05:03:32.336184Z",
     "iopub.status.busy": "2023-05-16T05:03:32.335755Z",
     "iopub.status.idle": "2023-05-16T05:03:32.372265Z",
     "shell.execute_reply": "2023-05-16T05:03:32.371440Z"
    },
    "papermill": {
     "duration": 0.053077,
     "end_time": "2023-05-16T05:03:32.374714",
     "exception": false,
     "start_time": "2023-05-16T05:03:32.321637",
     "status": "completed"
    },
    "tags": []
   },
   "outputs": [
    {
     "data": {
      "text/html": [
       "<div>\n",
       "<style scoped>\n",
       "    .dataframe tbody tr th:only-of-type {\n",
       "        vertical-align: middle;\n",
       "    }\n",
       "\n",
       "    .dataframe tbody tr th {\n",
       "        vertical-align: top;\n",
       "    }\n",
       "\n",
       "    .dataframe thead th {\n",
       "        text-align: right;\n",
       "    }\n",
       "</style>\n",
       "<table border=\"1\" class=\"dataframe\">\n",
       "  <thead>\n",
       "    <tr style=\"text-align: right;\">\n",
       "      <th></th>\n",
       "      <th>laptop_ID</th>\n",
       "      <th>Inches</th>\n",
       "      <th>Price_euros</th>\n",
       "    </tr>\n",
       "  </thead>\n",
       "  <tbody>\n",
       "    <tr>\n",
       "      <th>count</th>\n",
       "      <td>1303.000000</td>\n",
       "      <td>1303.000000</td>\n",
       "      <td>1303.000000</td>\n",
       "    </tr>\n",
       "    <tr>\n",
       "      <th>mean</th>\n",
       "      <td>660.155794</td>\n",
       "      <td>15.017191</td>\n",
       "      <td>1123.686992</td>\n",
       "    </tr>\n",
       "    <tr>\n",
       "      <th>std</th>\n",
       "      <td>381.172104</td>\n",
       "      <td>1.426304</td>\n",
       "      <td>699.009043</td>\n",
       "    </tr>\n",
       "    <tr>\n",
       "      <th>min</th>\n",
       "      <td>1.000000</td>\n",
       "      <td>10.100000</td>\n",
       "      <td>174.000000</td>\n",
       "    </tr>\n",
       "    <tr>\n",
       "      <th>25%</th>\n",
       "      <td>331.500000</td>\n",
       "      <td>14.000000</td>\n",
       "      <td>599.000000</td>\n",
       "    </tr>\n",
       "    <tr>\n",
       "      <th>50%</th>\n",
       "      <td>659.000000</td>\n",
       "      <td>15.600000</td>\n",
       "      <td>977.000000</td>\n",
       "    </tr>\n",
       "    <tr>\n",
       "      <th>75%</th>\n",
       "      <td>990.500000</td>\n",
       "      <td>15.600000</td>\n",
       "      <td>1487.880000</td>\n",
       "    </tr>\n",
       "    <tr>\n",
       "      <th>max</th>\n",
       "      <td>1320.000000</td>\n",
       "      <td>18.400000</td>\n",
       "      <td>6099.000000</td>\n",
       "    </tr>\n",
       "  </tbody>\n",
       "</table>\n",
       "</div>"
      ],
      "text/plain": [
       "         laptop_ID       Inches  Price_euros\n",
       "count  1303.000000  1303.000000  1303.000000\n",
       "mean    660.155794    15.017191  1123.686992\n",
       "std     381.172104     1.426304   699.009043\n",
       "min       1.000000    10.100000   174.000000\n",
       "25%     331.500000    14.000000   599.000000\n",
       "50%     659.000000    15.600000   977.000000\n",
       "75%     990.500000    15.600000  1487.880000\n",
       "max    1320.000000    18.400000  6099.000000"
      ]
     },
     "execution_count": 7,
     "metadata": {},
     "output_type": "execute_result"
    }
   ],
   "source": [
    "data.describe()"
   ]
  },
  {
   "cell_type": "code",
   "execution_count": 8,
   "id": "cc0ea46f",
   "metadata": {
    "execution": {
     "iopub.execute_input": "2023-05-16T05:03:32.403360Z",
     "iopub.status.busy": "2023-05-16T05:03:32.402925Z",
     "iopub.status.idle": "2023-05-16T05:03:33.528152Z",
     "shell.execute_reply": "2023-05-16T05:03:33.527221Z"
    },
    "papermill": {
     "duration": 1.142112,
     "end_time": "2023-05-16T05:03:33.530452",
     "exception": false,
     "start_time": "2023-05-16T05:03:32.388340",
     "status": "completed"
    },
    "tags": []
   },
   "outputs": [
    {
     "data": {
      "image/png": "[encoded data removed]",
      "text/plain": [
       "<Figure size 1000x500 with 1 Axes>"
      ]
     },
     "metadata": {},
     "output_type": "display_data"
    }
   ],
   "source": [
    "fig,ax=plt.subplots(figsize=(10,5))\n",
    "sns.histplot(data=data,x='Company', bins=len(data.Company), hue=data.Company,ax=ax,legend=False)\n",
    "ax.tick_params(labelsize=6.5)"
   ]
  },
  {
   "cell_type": "code",
   "execution_count": 9,
   "id": "cfc981d4",
   "metadata": {
    "execution": {
     "iopub.execute_input": "2023-05-16T05:03:33.559422Z",
     "iopub.status.busy": "2023-05-16T05:03:33.558491Z",
     "iopub.status.idle": "2023-05-16T05:03:34.302697Z",
     "shell.execute_reply": "2023-05-16T05:03:34.301527Z"
    },
    "papermill": {
     "duration": 0.762244,
     "end_time": "2023-05-16T05:03:34.306086",
     "exception": false,
     "start_time": "2023-05-16T05:03:33.543842",
     "status": "completed"
    },
    "tags": []
   },
   "outputs": [
    {
     "data": {
      "image/png": "[encoded data removed]",
      "text/plain": [
       "<Figure size 1000x500 with 1 Axes>"
      ]
     },
     "metadata": {},
     "output_type": "display_data"
    }
   ],
   "source": [
    "fig,ax=plt.subplots(figsize=(10,5))\n",
    "ax.tick_params(labelsize=6.5)\n",
    "\n",
    "sns.boxplot(x='Company', y='Price_euros', data=data)\n",
    "ax.set_title('Price vs Company')\n",
    "plt.ylabel('price ($)')\n",
    "plt.legend(loc='upper right', ncol=1, fontsize=15, fancybox=True, shadow=True, frameon=True)\n",
    "plt.title('Price VS CPU brand by GPU brand')\n",
    "plt.show()"
   ]
  },
  {
   "cell_type": "code",
   "execution_count": 10,
   "id": "f12ea123",
   "metadata": {
    "execution": {
     "iopub.execute_input": "2023-05-16T05:03:34.336654Z",
     "iopub.status.busy": "2023-05-16T05:03:34.336228Z",
     "iopub.status.idle": "2023-05-16T05:03:34.347064Z",
     "shell.execute_reply": "2023-05-16T05:03:34.345696Z"
    },
    "papermill": {
     "duration": 0.028625,
     "end_time": "2023-05-16T05:03:34.349547",
     "exception": false,
     "start_time": "2023-05-16T05:03:34.320922",
     "status": "completed"
    },
    "tags": []
   },
   "outputs": [],
   "source": [
    "companies = {\n",
    "    \"Apple\": 2719000000000,\n",
    "    \"Microsoft\": 2200000000000,\n",
    "    \"Google\": 1900000000000,\n",
    "    \"Samsung\": 346000000000,\n",
    "    \"Huawei\": 320000000000,\n",
    "    \"Xiaomi\": 190000000000,\n",
    "    \"Dell\": 74300000000,\n",
    "    \"Lenovo\": 68300000000,\n",
    "    \"Asus\": 78200000000,\n",
    "    \"Acer\": 14800000000,\n",
    "    \"MSI\": 17000000000,\n",
    "    \"Chuwi\": 12000000000,\n",
    "    \"Razer\": 16000000000,\n",
    "    \"Mediacom\": 18400000000,\n",
    "    \"Fujitsu\": 46500000000,\n",
    "    \"LG\": 17600000000,\n",
    "    \"Vero\": 10000000000\n",
    "    ,\n",
    "     'Toshiba':14000000900\n",
    "    ,\n",
    "    \"HP\":35500000000\n",
    "}\n",
    "data['Company']=data['Company'].apply(lambda x:companies[x] )"
   ]
  },
  {
   "cell_type": "code",
   "execution_count": 11,
   "id": "1f72a56c",
   "metadata": {
    "execution": {
     "iopub.execute_input": "2023-05-16T05:03:34.379474Z",
     "iopub.status.busy": "2023-05-16T05:03:34.379066Z",
     "iopub.status.idle": "2023-05-16T05:03:34.385942Z",
     "shell.execute_reply": "2023-05-16T05:03:34.384770Z"
    },
    "papermill": {
     "duration": 0.024779,
     "end_time": "2023-05-16T05:03:34.388328",
     "exception": false,
     "start_time": "2023-05-16T05:03:34.363549",
     "status": "completed"
    },
    "tags": []
   },
   "outputs": [
    {
     "data": {
      "text/plain": [
       "\"data['Ram']=data['Ram'].apply(lambda x: float(x[:-2]))\\ndata['Weight']=data['Weight'].apply(lambda x: float(x[:-2]))\\ndata['Memory']=data['Memory'].apply(lambda x: 'SSD' in x)\""
      ]
     },
     "execution_count": 11,
     "metadata": {},
     "output_type": "execute_result"
    }
   ],
   "source": [
    "\"\"\"data['Ram']=data['Ram'].apply(lambda x: float(x[:-2]))\n",
    "data['Weight']=data['Weight'].apply(lambda x: float(x[:-2]))\n",
    "data['Memory']=data['Memory'].apply(lambda x: 'SSD' in x)\"\"\""
   ]
  },
  {
   "cell_type": "code",
   "execution_count": 12,
   "id": "47852fa1",
   "metadata": {
    "execution": {
     "iopub.execute_input": "2023-05-16T05:03:34.419930Z",
     "iopub.status.busy": "2023-05-16T05:03:34.419550Z",
     "iopub.status.idle": "2023-05-16T05:03:34.630380Z",
     "shell.execute_reply": "2023-05-16T05:03:34.629114Z"
    },
    "papermill": {
     "duration": 0.230472,
     "end_time": "2023-05-16T05:03:34.633062",
     "exception": false,
     "start_time": "2023-05-16T05:03:34.402590",
     "status": "completed"
    },
    "tags": []
   },
   "outputs": [
    {
     "data": {
      "text/plain": [
       "<AxesSubplot: xlabel='Price_euros'>"
      ]
     },
     "execution_count": 12,
     "metadata": {},
     "output_type": "execute_result"
    },
    {
     "data": {
      "image/png": "[encoded data removed]",
      "text/plain": [
       "<Figure size 640x480 with 1 Axes>"
      ]
     },
     "metadata": {},
     "output_type": "display_data"
    }
   ],
   "source": [
    "sns.boxplot(data=data,x='Price_euros')"
   ]
  },
  {
   "cell_type": "code",
   "execution_count": 13,
   "id": "2a9c51ab",
   "metadata": {
    "execution": {
     "iopub.execute_input": "2023-05-16T05:03:34.665918Z",
     "iopub.status.busy": "2023-05-16T05:03:34.665027Z",
     "iopub.status.idle": "2023-05-16T05:03:34.674701Z",
     "shell.execute_reply": "2023-05-16T05:03:34.673575Z"
    },
    "papermill": {
     "duration": 0.029293,
     "end_time": "2023-05-16T05:03:34.677489",
     "exception": false,
     "start_time": "2023-05-16T05:03:34.648196",
     "status": "completed"
    },
    "tags": []
   },
   "outputs": [],
   "source": [
    "var=data['Price_euros'].std()\n",
    "mean=data['Price_euros'].mean()\n",
    "data['Price_euros']=np.where(data['Price_euros']>mean+var*2.5, mean+var*2.5,np.where(data['Price_euros']<mean-var*4,mean-var*4,data['Price_euros']))"
   ]
  },
  {
   "cell_type": "code",
   "execution_count": 14,
   "id": "79f99c17",
   "metadata": {
    "execution": {
     "iopub.execute_input": "2023-05-16T05:03:34.711533Z",
     "iopub.status.busy": "2023-05-16T05:03:34.710085Z",
     "iopub.status.idle": "2023-05-16T05:03:34.917640Z",
     "shell.execute_reply": "2023-05-16T05:03:34.916499Z"
    },
    "papermill": {
     "duration": 0.227558,
     "end_time": "2023-05-16T05:03:34.920165",
     "exception": false,
     "start_time": "2023-05-16T05:03:34.692607",
     "status": "completed"
    },
    "tags": []
   },
   "outputs": [
    {
     "data": {
      "text/plain": [
       "<AxesSubplot: xlabel='Price_euros'>"
      ]
     },
     "execution_count": 14,
     "metadata": {},
     "output_type": "execute_result"
    },
    {
     "data": {
      "image/png": "[encoded data removed]",
      "text/plain": [
       "<Figure size 640x480 with 1 Axes>"
      ]
     },
     "metadata": {},
     "output_type": "display_data"
    }
   ],
   "source": [
    "sns.boxplot(data=data,x='Price_euros')"
   ]
  },
  {
   "cell_type": "code",
   "execution_count": 15,
   "id": "cfa32876",
   "metadata": {
    "execution": {
     "iopub.execute_input": "2023-05-16T05:03:34.953259Z",
     "iopub.status.busy": "2023-05-16T05:03:34.952428Z",
     "iopub.status.idle": "2023-05-16T05:03:36.414763Z",
     "shell.execute_reply": "2023-05-16T05:03:36.413121Z"
    },
    "papermill": {
     "duration": 1.481936,
     "end_time": "2023-05-16T05:03:36.417606",
     "exception": false,
     "start_time": "2023-05-16T05:03:34.935670",
     "status": "completed"
    },
    "tags": []
   },
   "outputs": [],
   "source": [
    "df = data.drop(['laptop_ID'],axis=1)\n",
    "# Drop rows that have missing values\n",
    "df = df.dropna()\n",
    "df['SSD'] = np.zeros(len(df))\n",
    "df['HDD'] = np.zeros(len(df))\n",
    "df['FlashStorage'] = np.zeros(len(df))\n",
    "df['Hybrid'] = np.zeros(len(df))\n",
    "for i in range(len(df['Memory'])):\n",
    "    arr = df['Memory'][i].split(\"+\")\n",
    "    arr = [x.replace(\" \",\"\") for x in arr]\n",
    "    for x in arr:\n",
    "        if 'TB' in x:\n",
    "            \n",
    "            x = x.split(\"TB\")\n",
    "            num = float(x[0])*1000\n",
    "            df[x[1]][i] = num\n",
    "            \n",
    "        elif 'GB' in x:\n",
    "            x = x.split(\"GB\")\n",
    "            num = float(x[0])\n",
    "            df[x[1]][i] = num\n",
    "            \n",
    "        \n",
    "            \n",
    "df['Memory'] = df['SSD'] + df['HDD'] + df['FlashStorage'] + df['Hybrid']\n",
    "df['Ram'] = df['Ram'].str.replace('GB','')\n",
    "df['Weight'] = df['Weight'].apply(lambda x: float(x.strip(\"kg\")))\n",
    "for i in range(len(df['OpSys'])):\n",
    "    if 'Windows' in df['OpSys'][i]:\n",
    "        df['OpSys'][i] = 'Windows'\n",
    "    elif 'mac' in df['OpSys'][i].lower():\n",
    "        df['OpSys'][i] = 'Mac'\n",
    "    else:\n",
    "        df['OpSys'][i] = 'Other'\n",
    "\n",
    "df['ScreenResolution'] = df['ScreenResolution'].apply(lambda x: x.split(\" \")[-1])\n",
    "\n",
    "df['CpuHz'] = df['Cpu'].apply(lambda x: x.split(\" \")[-1])\n",
    "df['CpuHz'] = df['CpuHz'].str.replace('GHz','')\n",
    "df['CpuMaker'] = df['Cpu'].apply(lambda x: x.split(\" \")[0])\n",
    "df['CpuModel'] = df['Cpu'].apply(lambda x: x.split(\" \")[1])\n",
    "for i in range(len(df['CpuMaker'])):\n",
    "    if df['CpuMaker'][i] == 'Intel':\n",
    "        df['CpuModel'][i] = \" \".join(df['Cpu'][i].split(\" \")[0:-1]).replace(\" \",\"\")\n",
    "    else:\n",
    "        df['CpuModel'][i] = \"AMD\"\n",
    "\n",
    "df = df.drop('Cpu',axis=1)\n",
    "data = df.drop('CpuMaker',axis=1)"
   ]
  },
  {
   "cell_type": "code",
   "execution_count": 16,
   "id": "0e1820eb",
   "metadata": {
    "execution": {
     "iopub.execute_input": "2023-05-16T05:03:36.451257Z",
     "iopub.status.busy": "2023-05-16T05:03:36.450811Z",
     "iopub.status.idle": "2023-05-16T05:03:36.860739Z",
     "shell.execute_reply": "2023-05-16T05:03:36.859897Z"
    },
    "papermill": {
     "duration": 0.429235,
     "end_time": "2023-05-16T05:03:36.862893",
     "exception": false,
     "start_time": "2023-05-16T05:03:36.433658",
     "status": "completed"
    },
    "tags": []
   },
   "outputs": [
    {
     "data": {
      "text/plain": [
       "<seaborn.axisgrid.FacetGrid at 0x7fdbbae18d60>"
      ]
     },
     "execution_count": 16,
     "metadata": {},
     "output_type": "execute_result"
    },
    {
     "data": {
      "image/png": "[encoded data removed]",
      "text/plain": [
       "<Figure size 500x500 with 1 Axes>"
      ]
     },
     "metadata": {},
     "output_type": "display_data"
    }
   ],
   "source": [
    "sns.displot(data['Price_euros'])"
   ]
  },
  {
   "cell_type": "code",
   "execution_count": 17,
   "id": "988e8366",
   "metadata": {
    "execution": {
     "iopub.execute_input": "2023-05-16T05:03:36.896037Z",
     "iopub.status.busy": "2023-05-16T05:03:36.895586Z",
     "iopub.status.idle": "2023-05-16T05:03:36.903299Z",
     "shell.execute_reply": "2023-05-16T05:03:36.902139Z"
    },
    "papermill": {
     "duration": 0.027545,
     "end_time": "2023-05-16T05:03:36.905880",
     "exception": false,
     "start_time": "2023-05-16T05:03:36.878335",
     "status": "completed"
    },
    "tags": []
   },
   "outputs": [],
   "source": [
    "y=np.log(data['Price_euros'])\n",
    "data.drop(columns=['Price_euros'],inplace=True)"
   ]
  },
  {
   "cell_type": "code",
   "execution_count": 18,
   "id": "dd2329fa",
   "metadata": {
    "execution": {
     "iopub.execute_input": "2023-05-16T05:03:36.939284Z",
     "iopub.status.busy": "2023-05-16T05:03:36.938810Z",
     "iopub.status.idle": "2023-05-16T05:03:37.343031Z",
     "shell.execute_reply": "2023-05-16T05:03:37.341755Z"
    },
    "papermill": {
     "duration": 0.423688,
     "end_time": "2023-05-16T05:03:37.345683",
     "exception": false,
     "start_time": "2023-05-16T05:03:36.921995",
     "status": "completed"
    },
    "tags": []
   },
   "outputs": [
    {
     "data": {
      "text/plain": [
       "<seaborn.axisgrid.FacetGrid at 0x7fdb95733880>"
      ]
     },
     "execution_count": 18,
     "metadata": {},
     "output_type": "execute_result"
    },
    {
     "data": {
      "image/png": "[encoded data removed]",
      "text/plain": [
       "<Figure size 500x500 with 1 Axes>"
      ]
     },
     "metadata": {},
     "output_type": "display_data"
    }
   ],
   "source": [
    "sns.displot(y)"
   ]
  },
  {
   "cell_type": "code",
   "execution_count": 19,
   "id": "675f81ae",
   "metadata": {
    "execution": {
     "iopub.execute_input": "2023-05-16T05:03:37.379640Z",
     "iopub.status.busy": "2023-05-16T05:03:37.378909Z",
     "iopub.status.idle": "2023-05-16T05:03:37.384648Z",
     "shell.execute_reply": "2023-05-16T05:03:37.383472Z"
    },
    "papermill": {
     "duration": 0.025364,
     "end_time": "2023-05-16T05:03:37.387035",
     "exception": false,
     "start_time": "2023-05-16T05:03:37.361671",
     "status": "completed"
    },
    "tags": []
   },
   "outputs": [],
   "source": [
    "title=['Company',  'Weight','Ram','Inches','Memory','Product', 'TypeName',  'ScreenResolution', \n",
    "        'Gpu', 'OpSys', 'SSD', 'HDD', 'FlashStorage',\n",
    "       'Hybrid', 'CpuHz', 'CpuModel']"
   ]
  },
  {
   "cell_type": "code",
   "execution_count": 20,
   "id": "9b35f5e6",
   "metadata": {
    "execution": {
     "iopub.execute_input": "2023-05-16T05:03:37.421417Z",
     "iopub.status.busy": "2023-05-16T05:03:37.420979Z",
     "iopub.status.idle": "2023-05-16T05:03:39.060031Z",
     "shell.execute_reply": "2023-05-16T05:03:39.058895Z"
    },
    "papermill": {
     "duration": 1.661003,
     "end_time": "2023-05-16T05:03:39.063882",
     "exception": false,
     "start_time": "2023-05-16T05:03:37.402879",
     "status": "completed"
    },
    "tags": []
   },
   "outputs": [
    {
     "data": {
      "text/plain": [
       "array([[<AxesSubplot: title={'center': 'Company'}>,\n",
       "        <AxesSubplot: title={'center': 'Inches'}>,\n",
       "        <AxesSubplot: title={'center': 'Memory'}>],\n",
       "       [<AxesSubplot: title={'center': 'Weight'}>,\n",
       "        <AxesSubplot: title={'center': 'SSD'}>,\n",
       "        <AxesSubplot: title={'center': 'HDD'}>],\n",
       "       [<AxesSubplot: title={'center': 'FlashStorage'}>,\n",
       "        <AxesSubplot: title={'center': 'Hybrid'}>, <AxesSubplot: >]],\n",
       "      dtype=object)"
      ]
     },
     "execution_count": 20,
     "metadata": {},
     "output_type": "execute_result"
    },
    {
     "data": {
      "image/png": "[encoded data removed]",
      "text/plain": [
       "<Figure size 1000x1000 with 9 Axes>"
      ]
     },
     "metadata": {},
     "output_type": "display_data"
    }
   ],
   "source": [
    "data.hist(figsize=(10,10))"
   ]
  },
  {
   "cell_type": "code",
   "execution_count": 21,
   "id": "6b5cbecc",
   "metadata": {
    "execution": {
     "iopub.execute_input": "2023-05-16T05:03:39.109637Z",
     "iopub.status.busy": "2023-05-16T05:03:39.109235Z",
     "iopub.status.idle": "2023-05-16T05:03:39.500072Z",
     "shell.execute_reply": "2023-05-16T05:03:39.498837Z"
    },
    "papermill": {
     "duration": 0.413075,
     "end_time": "2023-05-16T05:03:39.503319",
     "exception": false,
     "start_time": "2023-05-16T05:03:39.090244",
     "status": "completed"
    },
    "tags": []
   },
   "outputs": [
    {
     "data": {
      "image/png": "[encoded data removed]",
      "text/plain": [
       "<Figure size 640x480 with 2 Axes>"
      ]
     },
     "metadata": {},
     "output_type": "display_data"
    }
   ],
   "source": [
    "data['price']=y\n",
    "data.corr()['price']\n",
    "sns.heatmap(pd.DataFrame( data.corr()['price']),  annot=True, vmin=-1, vmax=1)\n",
    "data.drop(columns=['price'],inplace=True)"
   ]
  },
  {
   "cell_type": "code",
   "execution_count": 22,
   "id": "f8bb2d82",
   "metadata": {
    "execution": {
     "iopub.execute_input": "2023-05-16T05:03:39.542053Z",
     "iopub.status.busy": "2023-05-16T05:03:39.541619Z",
     "iopub.status.idle": "2023-05-16T05:03:39.549368Z",
     "shell.execute_reply": "2023-05-16T05:03:39.548350Z"
    },
    "papermill": {
     "duration": 0.030363,
     "end_time": "2023-05-16T05:03:39.551970",
     "exception": false,
     "start_time": "2023-05-16T05:03:39.521607",
     "status": "completed"
    },
    "tags": []
   },
   "outputs": [],
   "source": [
    "data=data.reindex(columns=title)"
   ]
  },
  {
   "cell_type": "code",
   "execution_count": 23,
   "id": "588de1b8",
   "metadata": {
    "execution": {
     "iopub.execute_input": "2023-05-16T05:03:39.591263Z",
     "iopub.status.busy": "2023-05-16T05:03:39.590821Z",
     "iopub.status.idle": "2023-05-16T05:03:39.608306Z",
     "shell.execute_reply": "2023-05-16T05:03:39.606984Z"
    },
    "papermill": {
     "duration": 0.040455,
     "end_time": "2023-05-16T05:03:39.611039",
     "exception": false,
     "start_time": "2023-05-16T05:03:39.570584",
     "status": "completed"
    },
    "tags": []
   },
   "outputs": [],
   "source": [
    "encoder=LabelEncoder()\n",
    "for cols in  data.iloc[:,5:]:\n",
    "  data[cols]=encoder.fit_transform(data[cols])"
   ]
  },
  {
   "cell_type": "code",
   "execution_count": 24,
   "id": "add0a2e2",
   "metadata": {
    "execution": {
     "iopub.execute_input": "2023-05-16T05:03:39.648691Z",
     "iopub.status.busy": "2023-05-16T05:03:39.648281Z",
     "iopub.status.idle": "2023-05-16T05:03:39.676575Z",
     "shell.execute_reply": "2023-05-16T05:03:39.675444Z"
    },
    "papermill": {
     "duration": 0.050176,
     "end_time": "2023-05-16T05:03:39.679131",
     "exception": false,
     "start_time": "2023-05-16T05:03:39.628955",
     "status": "completed"
    },
    "tags": []
   },
   "outputs": [
    {
     "data": {
      "text/html": [
       "<div>\n",
       "<style scoped>\n",
       "    .dataframe tbody tr th:only-of-type {\n",
       "        vertical-align: middle;\n",
       "    }\n",
       "\n",
       "    .dataframe tbody tr th {\n",
       "        vertical-align: top;\n",
       "    }\n",
       "\n",
       "    .dataframe thead th {\n",
       "        text-align: right;\n",
       "    }\n",
       "</style>\n",
       "<table border=\"1\" class=\"dataframe\">\n",
       "  <thead>\n",
       "    <tr style=\"text-align: right;\">\n",
       "      <th></th>\n",
       "      <th>Company</th>\n",
       "      <th>Weight</th>\n",
       "      <th>Ram</th>\n",
       "      <th>Inches</th>\n",
       "      <th>Memory</th>\n",
       "      <th>Product</th>\n",
       "      <th>TypeName</th>\n",
       "      <th>ScreenResolution</th>\n",
       "      <th>Gpu</th>\n",
       "      <th>OpSys</th>\n",
       "      <th>SSD</th>\n",
       "      <th>HDD</th>\n",
       "      <th>FlashStorage</th>\n",
       "      <th>Hybrid</th>\n",
       "      <th>CpuHz</th>\n",
       "      <th>CpuModel</th>\n",
       "    </tr>\n",
       "  </thead>\n",
       "  <tbody>\n",
       "    <tr>\n",
       "      <th>378</th>\n",
       "      <td>78200000000</td>\n",
       "      <td>1.50</td>\n",
       "      <td>4</td>\n",
       "      <td>14.0</td>\n",
       "      <td>32.0</td>\n",
       "      <td>535</td>\n",
       "      <td>3</td>\n",
       "      <td>0</td>\n",
       "      <td>43</td>\n",
       "      <td>2</td>\n",
       "      <td>0</td>\n",
       "      <td>0</td>\n",
       "      <td>2</td>\n",
       "      <td>0</td>\n",
       "      <td>2</td>\n",
       "      <td>10</td>\n",
       "    </tr>\n",
       "    <tr>\n",
       "      <th>254</th>\n",
       "      <td>14800000000</td>\n",
       "      <td>3.00</td>\n",
       "      <td>4</td>\n",
       "      <td>17.3</td>\n",
       "      <td>256.0</td>\n",
       "      <td>59</td>\n",
       "      <td>3</td>\n",
       "      <td>3</td>\n",
       "      <td>97</td>\n",
       "      <td>2</td>\n",
       "      <td>8</td>\n",
       "      <td>0</td>\n",
       "      <td>0</td>\n",
       "      <td>0</td>\n",
       "      <td>21</td>\n",
       "      <td>27</td>\n",
       "    </tr>\n",
       "    <tr>\n",
       "      <th>691</th>\n",
       "      <td>68300000000</td>\n",
       "      <td>1.70</td>\n",
       "      <td>4</td>\n",
       "      <td>14.0</td>\n",
       "      <td>256.0</td>\n",
       "      <td>221</td>\n",
       "      <td>3</td>\n",
       "      <td>3</td>\n",
       "      <td>53</td>\n",
       "      <td>2</td>\n",
       "      <td>8</td>\n",
       "      <td>0</td>\n",
       "      <td>0</td>\n",
       "      <td>0</td>\n",
       "      <td>18</td>\n",
       "      <td>34</td>\n",
       "    </tr>\n",
       "    <tr>\n",
       "      <th>442</th>\n",
       "      <td>68300000000</td>\n",
       "      <td>1.36</td>\n",
       "      <td>8</td>\n",
       "      <td>12.5</td>\n",
       "      <td>256.0</td>\n",
       "      <td>473</td>\n",
       "      <td>4</td>\n",
       "      <td>3</td>\n",
       "      <td>53</td>\n",
       "      <td>2</td>\n",
       "      <td>8</td>\n",
       "      <td>0</td>\n",
       "      <td>0</td>\n",
       "      <td>0</td>\n",
       "      <td>18</td>\n",
       "      <td>34</td>\n",
       "    </tr>\n",
       "    <tr>\n",
       "      <th>689</th>\n",
       "      <td>68300000000</td>\n",
       "      <td>2.10</td>\n",
       "      <td>4</td>\n",
       "      <td>15.6</td>\n",
       "      <td>500.0</td>\n",
       "      <td>506</td>\n",
       "      <td>3</td>\n",
       "      <td>0</td>\n",
       "      <td>45</td>\n",
       "      <td>2</td>\n",
       "      <td>0</td>\n",
       "      <td>3</td>\n",
       "      <td>0</td>\n",
       "      <td>0</td>\n",
       "      <td>7</td>\n",
       "      <td>7</td>\n",
       "    </tr>\n",
       "    <tr>\n",
       "      <th>...</th>\n",
       "      <td>...</td>\n",
       "      <td>...</td>\n",
       "      <td>...</td>\n",
       "      <td>...</td>\n",
       "      <td>...</td>\n",
       "      <td>...</td>\n",
       "      <td>...</td>\n",
       "      <td>...</td>\n",
       "      <td>...</td>\n",
       "      <td>...</td>\n",
       "      <td>...</td>\n",
       "      <td>...</td>\n",
       "      <td>...</td>\n",
       "      <td>...</td>\n",
       "      <td>...</td>\n",
       "      <td>...</td>\n",
       "    </tr>\n",
       "    <tr>\n",
       "      <th>1292</th>\n",
       "      <td>74300000000</td>\n",
       "      <td>2.20</td>\n",
       "      <td>2</td>\n",
       "      <td>15.6</td>\n",
       "      <td>500.0</td>\n",
       "      <td>238</td>\n",
       "      <td>3</td>\n",
       "      <td>0</td>\n",
       "      <td>40</td>\n",
       "      <td>2</td>\n",
       "      <td>0</td>\n",
       "      <td>3</td>\n",
       "      <td>0</td>\n",
       "      <td>0</td>\n",
       "      <td>7</td>\n",
       "      <td>8</td>\n",
       "    </tr>\n",
       "    <tr>\n",
       "      <th>1167</th>\n",
       "      <td>68300000000</td>\n",
       "      <td>2.20</td>\n",
       "      <td>4</td>\n",
       "      <td>15.6</td>\n",
       "      <td>1000.0</td>\n",
       "      <td>52</td>\n",
       "      <td>3</td>\n",
       "      <td>3</td>\n",
       "      <td>67</td>\n",
       "      <td>2</td>\n",
       "      <td>0</td>\n",
       "      <td>4</td>\n",
       "      <td>0</td>\n",
       "      <td>0</td>\n",
       "      <td>12</td>\n",
       "      <td>24</td>\n",
       "    </tr>\n",
       "    <tr>\n",
       "      <th>456</th>\n",
       "      <td>74300000000</td>\n",
       "      <td>4.42</td>\n",
       "      <td>8</td>\n",
       "      <td>17.3</td>\n",
       "      <td>1000.0</td>\n",
       "      <td>56</td>\n",
       "      <td>3</td>\n",
       "      <td>3</td>\n",
       "      <td>79</td>\n",
       "      <td>2</td>\n",
       "      <td>0</td>\n",
       "      <td>4</td>\n",
       "      <td>0</td>\n",
       "      <td>0</td>\n",
       "      <td>21</td>\n",
       "      <td>54</td>\n",
       "    </tr>\n",
       "    <tr>\n",
       "      <th>1155</th>\n",
       "      <td>35500000000</td>\n",
       "      <td>1.91</td>\n",
       "      <td>4</td>\n",
       "      <td>15.6</td>\n",
       "      <td>256.0</td>\n",
       "      <td>30</td>\n",
       "      <td>3</td>\n",
       "      <td>3</td>\n",
       "      <td>6</td>\n",
       "      <td>2</td>\n",
       "      <td>8</td>\n",
       "      <td>0</td>\n",
       "      <td>0</td>\n",
       "      <td>0</td>\n",
       "      <td>18</td>\n",
       "      <td>0</td>\n",
       "    </tr>\n",
       "    <tr>\n",
       "      <th>557</th>\n",
       "      <td>68300000000</td>\n",
       "      <td>2.80</td>\n",
       "      <td>6</td>\n",
       "      <td>17.3</td>\n",
       "      <td>1128.0</td>\n",
       "      <td>212</td>\n",
       "      <td>3</td>\n",
       "      <td>2</td>\n",
       "      <td>72</td>\n",
       "      <td>2</td>\n",
       "      <td>5</td>\n",
       "      <td>4</td>\n",
       "      <td>0</td>\n",
       "      <td>0</td>\n",
       "      <td>21</td>\n",
       "      <td>50</td>\n",
       "    </tr>\n",
       "  </tbody>\n",
       "</table>\n",
       "<p>1303 rows × 16 columns</p>\n",
       "</div>"
      ],
      "text/plain": [
       "          Company  Weight Ram  Inches  Memory  Product  TypeName  \\\n",
       "378   78200000000    1.50   4    14.0    32.0      535         3   \n",
       "254   14800000000    3.00   4    17.3   256.0       59         3   \n",
       "691   68300000000    1.70   4    14.0   256.0      221         3   \n",
       "442   68300000000    1.36   8    12.5   256.0      473         4   \n",
       "689   68300000000    2.10   4    15.6   500.0      506         3   \n",
       "...           ...     ...  ..     ...     ...      ...       ...   \n",
       "1292  74300000000    2.20   2    15.6   500.0      238         3   \n",
       "1167  68300000000    2.20   4    15.6  1000.0       52         3   \n",
       "456   74300000000    4.42   8    17.3  1000.0       56         3   \n",
       "1155  35500000000    1.91   4    15.6   256.0       30         3   \n",
       "557   68300000000    2.80   6    17.3  1128.0      212         3   \n",
       "\n",
       "      ScreenResolution  Gpu  OpSys  SSD  HDD  FlashStorage  Hybrid  CpuHz  \\\n",
       "378                  0   43      2    0    0             2       0      2   \n",
       "254                  3   97      2    8    0             0       0     21   \n",
       "691                  3   53      2    8    0             0       0     18   \n",
       "442                  3   53      2    8    0             0       0     18   \n",
       "689                  0   45      2    0    3             0       0      7   \n",
       "...                ...  ...    ...  ...  ...           ...     ...    ...   \n",
       "1292                 0   40      2    0    3             0       0      7   \n",
       "1167                 3   67      2    0    4             0       0     12   \n",
       "456                  3   79      2    0    4             0       0     21   \n",
       "1155                 3    6      2    8    0             0       0     18   \n",
       "557                  2   72      2    5    4             0       0     21   \n",
       "\n",
       "      CpuModel  \n",
       "378         10  \n",
       "254         27  \n",
       "691         34  \n",
       "442         34  \n",
       "689          7  \n",
       "...        ...  \n",
       "1292         8  \n",
       "1167        24  \n",
       "456         54  \n",
       "1155         0  \n",
       "557         50  \n",
       "\n",
       "[1303 rows x 16 columns]"
      ]
     },
     "execution_count": 24,
     "metadata": {},
     "output_type": "execute_result"
    }
   ],
   "source": [
    "data"
   ]
  },
  {
   "cell_type": "markdown",
   "id": "5a03ac6c",
   "metadata": {
    "papermill": {
     "duration": 0.018548,
     "end_time": "2023-05-16T05:03:39.716145",
     "exception": false,
     "start_time": "2023-05-16T05:03:39.697597",
     "status": "completed"
    },
    "tags": []
   },
   "source": []
  },
  {
   "cell_type": "code",
   "execution_count": 25,
   "id": "1fea7532",
   "metadata": {
    "execution": {
     "iopub.execute_input": "2023-05-16T05:03:39.754575Z",
     "iopub.status.busy": "2023-05-16T05:03:39.754126Z",
     "iopub.status.idle": "2023-05-16T05:03:39.762407Z",
     "shell.execute_reply": "2023-05-16T05:03:39.761347Z"
    },
    "papermill": {
     "duration": 0.030125,
     "end_time": "2023-05-16T05:03:39.764843",
     "exception": false,
     "start_time": "2023-05-16T05:03:39.734718",
     "status": "completed"
    },
    "tags": []
   },
   "outputs": [],
   "source": [
    "x_train,x_test,y_train,y_test=train_test_split(data,y,test_size=.1)"
   ]
  },
  {
   "cell_type": "code",
   "execution_count": 26,
   "id": "b0bf6914",
   "metadata": {
    "execution": {
     "iopub.execute_input": "2023-05-16T05:03:39.804074Z",
     "iopub.status.busy": "2023-05-16T05:03:39.803666Z",
     "iopub.status.idle": "2023-05-16T05:03:39.810937Z",
     "shell.execute_reply": "2023-05-16T05:03:39.809759Z"
    },
    "papermill": {
     "duration": 0.029832,
     "end_time": "2023-05-16T05:03:39.813659",
     "exception": false,
     "start_time": "2023-05-16T05:03:39.783827",
     "status": "completed"
    },
    "tags": []
   },
   "outputs": [],
   "source": [
    "result=pd.DataFrame(columns=[\"cross validtion score\",\"test score\"])"
   ]
  },
  {
   "cell_type": "code",
   "execution_count": 27,
   "id": "e23567af",
   "metadata": {
    "execution": {
     "iopub.execute_input": "2023-05-16T05:03:39.852585Z",
     "iopub.status.busy": "2023-05-16T05:03:39.851687Z",
     "iopub.status.idle": "2023-05-16T05:04:32.806591Z",
     "shell.execute_reply": "2023-05-16T05:04:32.804544Z"
    },
    "papermill": {
     "duration": 53.043781,
     "end_time": "2023-05-16T05:04:32.875831",
     "exception": false,
     "start_time": "2023-05-16T05:03:39.832050",
     "status": "completed"
    },
    "tags": []
   },
   "outputs": [
    {
     "name": "stdout",
     "output_type": "stream",
     "text": [
      "Best Parameters: {'ridge__alpha': 1.0, 'ridge__fit_intercept': True, 'ridge__solver': 'auto'}\n",
      "Best Score: 0.8365900641156289\n"
     ]
    }
   ],
   "source": [
    "# Create the Ridge regression model\n",
    "ridge = Pipeline([(\"poly\",PolynomialFeatures(degree=3)),(\"maxmin\",MinMaxScaler()),(\"ridge\",Ridge())])\n",
    "\n",
    "\n",
    "# Define the parameter grid\n",
    "param_grid = {\n",
    "    'ridge__alpha': [.0001,.001,.01,0.1, 1.0, 10.0],\n",
    "    'ridge__fit_intercept': [True, False],\n",
    "    'ridge__solver': ['auto', 'svd', 'cholesky']\n",
    "}\n",
    "\n",
    "# Perform grid search with cross-validation\n",
    "grid_search1 = GridSearchCV(estimator=ridge, param_grid=param_grid, cv=5)\n",
    "grid_search1.fit(x_train, y_train)\n",
    "print(\"Best Parameters:\", grid_search1.best_params_)\n",
    "print(\"Best Score:\", grid_search1.best_score_)"
   ]
  },
  {
   "cell_type": "code",
   "execution_count": 28,
   "id": "f0c52bee",
   "metadata": {
    "collapsed": true,
    "execution": {
     "iopub.execute_input": "2023-05-16T05:04:32.927241Z",
     "iopub.status.busy": "2023-05-16T05:04:32.926822Z",
     "iopub.status.idle": "2023-05-16T05:12:13.288921Z",
     "shell.execute_reply": "2023-05-16T05:12:13.287719Z"
    },
    "jupyter": {
     "outputs_hidden": true
    },
    "papermill": {
     "duration": 460.403882,
     "end_time": "2023-05-16T05:12:13.311017",
     "exception": false,
     "start_time": "2023-05-16T05:04:32.907135",
     "status": "completed"
    },
    "tags": []
   },
   "outputs": [
    {
     "data": {
      "text/html": [
       "<style>#sk-container-id-1 {color: black;background-color: white;}#sk-container-id-1 pre{padding: 0;}#sk-container-id-1 div.sk-toggleable {background-color: white;}#sk-container-id-1 label.sk-toggleable__label {cursor: pointer;display: block;width: 100%;margin-bottom: 0;padding: 0.3em;box-sizing: border-box;text-align: center;}#sk-container-id-1 label.sk-toggleable__label-arrow:before {content: \"▸\";float: left;margin-right: 0.25em;color: #696969;}#sk-container-id-1 label.sk-toggleable__label-arrow:hover:before {color: black;}#sk-container-id-1 div.sk-estimator:hover label.sk-toggleable__label-arrow:before {color: black;}#sk-container-id-1 div.sk-toggleable__content {max-height: 0;max-width: 0;overflow: hidden;text-align: left;background-color: #f0f8ff;}#sk-container-id-1 div.sk-toggleable__content pre {margin: 0.2em;color: black;border-radius: 0.25em;background-color: #f0f8ff;}#sk-container-id-1 input.sk-toggleable__control:checked~div.sk-toggleable__content {max-height: 200px;max-width: 100%;overflow: auto;}#sk-container-id-1 input.sk-toggleable__control:checked~label.sk-toggleable__label-arrow:before {content: \"▾\";}#sk-container-id-1 div.sk-estimator input.sk-toggleable__control:checked~label.sk-toggleable__label {background-color: #d4ebff;}#sk-container-id-1 div.sk-label input.sk-toggleable__control:checked~label.sk-toggleable__label {background-color: #d4ebff;}#sk-container-id-1 input.sk-hidden--visually {border: 0;clip: rect(1px 1px 1px 1px);clip: rect(1px, 1px, 1px, 1px);height: 1px;margin: -1px;overflow: hidden;padding: 0;position: absolute;width: 1px;}#sk-container-id-1 div.sk-estimator {font-family: monospace;background-color: #f0f8ff;border: 1px dotted black;border-radius: 0.25em;box-sizing: border-box;margin-bottom: 0.5em;}#sk-container-id-1 div.sk-estimator:hover {background-color: #d4ebff;}#sk-container-id-1 div.sk-parallel-item::after {content: \"\";width: 100%;border-bottom: 1px solid gray;flex-grow: 1;}#sk-container-id-1 div.sk-label:hover label.sk-toggleable__label {background-color: #d4ebff;}#sk-container-id-1 div.sk-serial::before {content: \"\";position: absolute;border-left: 1px solid gray;box-sizing: border-box;top: 0;bottom: 0;left: 50%;z-index: 0;}#sk-container-id-1 div.sk-serial {display: flex;flex-direction: column;align-items: center;background-color: white;padding-right: 0.2em;padding-left: 0.2em;position: relative;}#sk-container-id-1 div.sk-item {position: relative;z-index: 1;}#sk-container-id-1 div.sk-parallel {display: flex;align-items: stretch;justify-content: center;background-color: white;position: relative;}#sk-container-id-1 div.sk-item::before, #sk-container-id-1 div.sk-parallel-item::before {content: \"\";position: absolute;border-left: 1px solid gray;box-sizing: border-box;top: 0;bottom: 0;left: 50%;z-index: -1;}#sk-container-id-1 div.sk-parallel-item {display: flex;flex-direction: column;z-index: 1;position: relative;background-color: white;}#sk-container-id-1 div.sk-parallel-item:first-child::after {align-self: flex-end;width: 50%;}#sk-container-id-1 div.sk-parallel-item:last-child::after {align-self: flex-start;width: 50%;}#sk-container-id-1 div.sk-parallel-item:only-child::after {width: 0;}#sk-container-id-1 div.sk-dashed-wrapped {border: 1px dashed gray;margin: 0 0.4em 0.5em 0.4em;box-sizing: border-box;padding-bottom: 0.4em;background-color: white;}#sk-container-id-1 div.sk-label label {font-family: monospace;font-weight: bold;display: inline-block;line-height: 1.2em;}#sk-container-id-1 div.sk-label-container {text-align: center;}#sk-container-id-1 div.sk-container {/* jupyter's `normalize.less` sets `[hidden] { display: none; }` but bootstrap.min.css set `[hidden] { display: none !important; }` so we also need the `!important` here to be able to override the default hidden behavior on the sphinx rendered scikit-learn.org. See: https://github.com/scikit-learn/scikit-learn/issues/21755 */display: inline-block !important;position: relative;}#sk-container-id-1 div.sk-text-repr-fallback {display: none;}</style><div id=\"sk-container-id-1\" class=\"sk-top-container\"><div class=\"sk-text-repr-fallback\"><pre>GridSearchCV(cv=5, estimator=RandomForestRegressor(),\n",
       "             param_grid={&#x27;max_depth&#x27;: [80, 90, 100, 110],\n",
       "                         &#x27;max_features&#x27;: [6, 12, 16],\n",
       "                         &#x27;n_estimators&#x27;: [100, 200, 300, 1000]})</pre><b>In a Jupyter environment, please rerun this cell to show the HTML representation or trust the notebook. <br />On GitHub, the HTML representation is unable to render, please try loading this page with nbviewer.org.</b></div><div class=\"sk-container\" hidden><div class=\"sk-item sk-dashed-wrapped\"><div class=\"sk-label-container\"><div class=\"sk-label sk-toggleable\"><input class=\"sk-toggleable__control sk-hidden--visually\" id=\"sk-estimator-id-1\" type=\"checkbox\" ><label for=\"sk-estimator-id-1\" class=\"sk-toggleable__label sk-toggleable__label-arrow\">GridSearchCV</label><div class=\"sk-toggleable__content\"><pre>GridSearchCV(cv=5, estimator=RandomForestRegressor(),\n",
       "             param_grid={&#x27;max_depth&#x27;: [80, 90, 100, 110],\n",
       "                         &#x27;max_features&#x27;: [6, 12, 16],\n",
       "                         &#x27;n_estimators&#x27;: [100, 200, 300, 1000]})</pre></div></div></div><div class=\"sk-parallel\"><div class=\"sk-parallel-item\"><div class=\"sk-item\"><div class=\"sk-label-container\"><div class=\"sk-label sk-toggleable\"><input class=\"sk-toggleable__control sk-hidden--visually\" id=\"sk-estimator-id-2\" type=\"checkbox\" ><label for=\"sk-estimator-id-2\" class=\"sk-toggleable__label sk-toggleable__label-arrow\">estimator: RandomForestRegressor</label><div class=\"sk-toggleable__content\"><pre>RandomForestRegressor()</pre></div></div></div><div class=\"sk-serial\"><div class=\"sk-item\"><div class=\"sk-estimator sk-toggleable\"><input class=\"sk-toggleable__control sk-hidden--visually\" id=\"sk-estimator-id-3\" type=\"checkbox\" ><label for=\"sk-estimator-id-3\" class=\"sk-toggleable__label sk-toggleable__label-arrow\">RandomForestRegressor</label><div class=\"sk-toggleable__content\"><pre>RandomForestRegressor()</pre></div></div></div></div></div></div></div></div></div></div>"
      ],
      "text/plain": [
       "GridSearchCV(cv=5, estimator=RandomForestRegressor(),\n",
       "             param_grid={'max_depth': [80, 90, 100, 110],\n",
       "                         'max_features': [6, 12, 16],\n",
       "                         'n_estimators': [100, 200, 300, 1000]})"
      ]
     },
     "execution_count": 28,
     "metadata": {},
     "output_type": "execute_result"
    }
   ],
   "source": [
    "param_grid=param_grid = {\n",
    "    'max_depth': [80, 90, 100, 110],\n",
    "    'max_features': [6, 12,16],\n",
    "    'n_estimators': [100, 200, 300, 1000]\n",
    "}\n",
    "grid_search2 = GridSearchCV(estimator=RandomForestRegressor(), param_grid=param_grid, cv=5)\n",
    "grid_search2.fit(x_train, y_train)"
   ]
  },
  {
   "cell_type": "code",
   "execution_count": 29,
   "id": "7f77e67e",
   "metadata": {
    "execution": {
     "iopub.execute_input": "2023-05-16T05:12:13.351915Z",
     "iopub.status.busy": "2023-05-16T05:12:13.351508Z",
     "iopub.status.idle": "2023-05-16T05:12:13.357061Z",
     "shell.execute_reply": "2023-05-16T05:12:13.355921Z"
    },
    "papermill": {
     "duration": 0.029534,
     "end_time": "2023-05-16T05:12:13.359921",
     "exception": false,
     "start_time": "2023-05-16T05:12:13.330387",
     "status": "completed"
    },
    "tags": []
   },
   "outputs": [
    {
     "name": "stdout",
     "output_type": "stream",
     "text": [
      "Best Parameters: {'max_depth': 110, 'max_features': 6, 'n_estimators': 300}\n",
      "Best Score: 0.9157486385546549\n"
     ]
    }
   ],
   "source": [
    "print(\"Best Parameters:\", grid_search2.best_params_)\n",
    "print(\"Best Score:\", grid_search2.best_score_)"
   ]
  },
  {
   "cell_type": "code",
   "execution_count": 30,
   "id": "8b216f5e",
   "metadata": {
    "execution": {
     "iopub.execute_input": "2023-05-16T05:12:13.399705Z",
     "iopub.status.busy": "2023-05-16T05:12:13.399301Z",
     "iopub.status.idle": "2023-05-16T05:12:14.310500Z",
     "shell.execute_reply": "2023-05-16T05:12:14.309267Z"
    },
    "papermill": {
     "duration": 0.934478,
     "end_time": "2023-05-16T05:12:14.313426",
     "exception": false,
     "start_time": "2023-05-16T05:12:13.378948",
     "status": "completed"
    },
    "tags": []
   },
   "outputs": [
    {
     "name": "stdout",
     "output_type": "stream",
     "text": [
      "Best Parameters: {'knn__n_neighbors': 5}\n",
      "Best Score: 0.8227182128796512\n"
     ]
    }
   ],
   "source": [
    "param_grid = {\n",
    " \"knn__n_neighbors\":[10,5,100,50,30,80,20]\n",
    "}\n",
    "\n",
    "grid_search4 = GridSearchCV(estimator= Pipeline([(\"poly\",PolynomialFeatures(degree=2)),(\"maxmin\",MinMaxScaler()),(\"knn\",KNeighborsRegressor())]), param_grid=param_grid, cv=5)\n",
    "grid_search4.fit(x_train, y_train)\n",
    "\n",
    "print(\"Best Parameters:\", grid_search4.best_params_)\n",
    "print(\"Best Score:\", grid_search4.best_score_)"
   ]
  },
  {
   "cell_type": "code",
   "execution_count": 31,
   "id": "781f7023",
   "metadata": {
    "execution": {
     "iopub.execute_input": "2023-05-16T05:12:14.353777Z",
     "iopub.status.busy": "2023-05-16T05:12:14.353364Z",
     "iopub.status.idle": "2023-05-16T05:12:28.041821Z",
     "shell.execute_reply": "2023-05-16T05:12:28.040451Z"
    },
    "papermill": {
     "duration": 13.711462,
     "end_time": "2023-05-16T05:12:28.044274",
     "exception": false,
     "start_time": "2023-05-16T05:12:14.332812",
     "status": "completed"
    },
    "tags": []
   },
   "outputs": [
    {
     "name": "stdout",
     "output_type": "stream",
     "text": [
      "Best Parameters: {'svr__C': 1.0, 'svr__degree': 2, 'svr__kernel': 'rbf'}\n",
      "Best Score: 0.8763760932477661\n"
     ]
    }
   ],
   "source": [
    "param_grid = {\n",
    "    'svr__kernel': ['linear','poly', 'rbf'],\n",
    "    'svr__C': [0.1, 1.0, .01,.001],\n",
    "    'svr__degree': [2, 3,4]\n",
    "}\n",
    "\n",
    "grid_search3 = GridSearchCV(estimator=Pipeline([(\"maxmin\",StandardScaler()),(\"svr\",SVR())]), param_grid=param_grid, cv=5)\n",
    "grid_search3.fit(x_train, y_train)\n",
    "\n",
    "print(\"Best Parameters:\", grid_search3.best_params_)\n",
    "print(\"Best Score:\", grid_search3.best_score_)"
   ]
  },
  {
   "cell_type": "code",
   "execution_count": 32,
   "id": "1a74e818",
   "metadata": {
    "execution": {
     "iopub.execute_input": "2023-05-16T05:12:28.084219Z",
     "iopub.status.busy": "2023-05-16T05:12:28.083786Z",
     "iopub.status.idle": "2023-05-16T05:13:29.556631Z",
     "shell.execute_reply": "2023-05-16T05:13:29.555455Z"
    },
    "papermill": {
     "duration": 61.515143,
     "end_time": "2023-05-16T05:13:29.578557",
     "exception": false,
     "start_time": "2023-05-16T05:12:28.063414",
     "status": "completed"
    },
    "tags": []
   },
   "outputs": [
    {
     "name": "stdout",
     "output_type": "stream",
     "text": [
      "Best Parameters: {'learning_rate': 0.1, 'max_depth': 4, 'n_estimators': 300}\n",
      "Best Score: 0.9243869937315219\n"
     ]
    }
   ],
   "source": [
    "param_grid = {\n",
    "    'n_estimators': [100, 200, 300],\n",
    "    'learning_rate': [0.1, 0.01, 0.001],\n",
    "    'max_depth': [3, 4, 5]\n",
    "}\n",
    "grid_search5 = GridSearchCV(estimator=GradientBoostingRegressor(), param_grid=param_grid, cv=5)\n",
    "grid_search5.fit(x_train, y_train)\n",
    "print(\"Best Parameters:\", grid_search5.best_params_)\n",
    "print(\"Best Score:\", grid_search5.best_score_)"
   ]
  },
  {
   "cell_type": "code",
   "execution_count": 33,
   "id": "8987a1da",
   "metadata": {
    "execution": {
     "iopub.execute_input": "2023-05-16T05:13:29.621441Z",
     "iopub.status.busy": "2023-05-16T05:13:29.620462Z",
     "iopub.status.idle": "2023-05-16T05:13:30.064270Z",
     "shell.execute_reply": "2023-05-16T05:13:30.063342Z"
    },
    "papermill": {
     "duration": 0.469063,
     "end_time": "2023-05-16T05:13:30.066998",
     "exception": false,
     "start_time": "2023-05-16T05:13:29.597935",
     "status": "completed"
    },
    "tags": []
   },
   "outputs": [],
   "source": [
    "n=cross_val_score(grid_search3.best_estimator_,x_train,y_train).mean()\n",
    "Extra_tree=grid_search3.best_estimator_\n",
    "Extra_tree.fit(x_train,y_train)\n",
    "w=Extra_tree.score(x_test,y_test)\n",
    "result.loc[\"SVR\"]=[n,w]"
   ]
  },
  {
   "cell_type": "code",
   "execution_count": 34,
   "id": "e58842b3",
   "metadata": {
    "execution": {
     "iopub.execute_input": "2023-05-16T05:13:30.108377Z",
     "iopub.status.busy": "2023-05-16T05:13:30.107645Z",
     "iopub.status.idle": "2023-05-16T05:13:36.859896Z",
     "shell.execute_reply": "2023-05-16T05:13:36.858942Z"
    },
    "papermill": {
     "duration": 6.776012,
     "end_time": "2023-05-16T05:13:36.862549",
     "exception": false,
     "start_time": "2023-05-16T05:13:30.086537",
     "status": "completed"
    },
    "tags": []
   },
   "outputs": [],
   "source": [
    "\n",
    "n=cross_val_score(grid_search2.best_estimator_,x_train,y_train).mean()\n",
    "Extra_tree=grid_search2.best_estimator_\n",
    "Extra_tree.fit(x_train,y_train)\n",
    "w=Extra_tree.score(x_test,y_test)\n",
    "result.loc[\"Random Forest Regressor\",]=[n,w]"
   ]
  },
  {
   "cell_type": "code",
   "execution_count": 35,
   "id": "3f1399d3",
   "metadata": {
    "execution": {
     "iopub.execute_input": "2023-05-16T05:13:36.902998Z",
     "iopub.status.busy": "2023-05-16T05:13:36.902346Z",
     "iopub.status.idle": "2023-05-16T05:13:37.877306Z",
     "shell.execute_reply": "2023-05-16T05:13:37.875494Z"
    },
    "papermill": {
     "duration": 1.000245,
     "end_time": "2023-05-16T05:13:37.881832",
     "exception": false,
     "start_time": "2023-05-16T05:13:36.881587",
     "status": "completed"
    },
    "tags": []
   },
   "outputs": [],
   "source": [
    "ridge=grid_search1.best_estimator_\n",
    "n=cross_val_score(ridge,x_train,y_train).mean()\n",
    "Extra_tree=ridge\n",
    "Extra_tree.fit(x_train,y_train)\n",
    "w=Extra_tree.score(x_test,y_test)\n",
    "result.loc[\"Ridge\"]=[n,w]"
   ]
  },
  {
   "cell_type": "code",
   "execution_count": 36,
   "id": "f99d85a1",
   "metadata": {
    "execution": {
     "iopub.execute_input": "2023-05-16T05:13:37.991607Z",
     "iopub.status.busy": "2023-05-16T05:13:37.991233Z",
     "iopub.status.idle": "2023-05-16T05:13:42.088925Z",
     "shell.execute_reply": "2023-05-16T05:13:42.087694Z"
    },
    "papermill": {
     "duration": 4.1349,
     "end_time": "2023-05-16T05:13:42.091813",
     "exception": false,
     "start_time": "2023-05-16T05:13:37.956913",
     "status": "completed"
    },
    "tags": []
   },
   "outputs": [],
   "source": [
    "ridge=grid_search5.best_estimator_\n",
    "n=cross_val_score(ridge,x_train,y_train).mean()\n",
    "Extra_tree=ridge\n",
    "Extra_tree.fit(x_train,y_train)\n",
    "w=Extra_tree.score(x_test,y_test)\n",
    "result.loc[\"Gradient Boosting Regressor\"]=[n,w]"
   ]
  },
  {
   "cell_type": "code",
   "execution_count": 37,
   "id": "33456ed5",
   "metadata": {
    "execution": {
     "iopub.execute_input": "2023-05-16T05:13:42.133881Z",
     "iopub.status.busy": "2023-05-16T05:13:42.132887Z",
     "iopub.status.idle": "2023-05-16T05:13:42.271495Z",
     "shell.execute_reply": "2023-05-16T05:13:42.270518Z"
    },
    "papermill": {
     "duration": 0.162512,
     "end_time": "2023-05-16T05:13:42.274123",
     "exception": false,
     "start_time": "2023-05-16T05:13:42.111611",
     "status": "completed"
    },
    "tags": []
   },
   "outputs": [],
   "source": [
    "ridge=grid_search4.best_estimator_\n",
    "n=cross_val_score(ridge,x_train,y_train).mean()\n",
    "Extra_tree=ridge\n",
    "Extra_tree.fit(x_train,y_train)\n",
    "w=Extra_tree.score(x_test,y_test)\n",
    "result.loc[\"KNN\"]=[n,w]"
   ]
  },
  {
   "cell_type": "code",
   "execution_count": 38,
   "id": "a69967f8",
   "metadata": {
    "execution": {
     "iopub.execute_input": "2023-05-16T05:13:42.315518Z",
     "iopub.status.busy": "2023-05-16T05:13:42.315096Z",
     "iopub.status.idle": "2023-05-16T05:13:42.326754Z",
     "shell.execute_reply": "2023-05-16T05:13:42.325594Z"
    },
    "papermill": {
     "duration": 0.034508,
     "end_time": "2023-05-16T05:13:42.329219",
     "exception": false,
     "start_time": "2023-05-16T05:13:42.294711",
     "status": "completed"
    },
    "tags": []
   },
   "outputs": [
    {
     "data": {
      "text/html": [
       "<div>\n",
       "<style scoped>\n",
       "    .dataframe tbody tr th:only-of-type {\n",
       "        vertical-align: middle;\n",
       "    }\n",
       "\n",
       "    .dataframe tbody tr th {\n",
       "        vertical-align: top;\n",
       "    }\n",
       "\n",
       "    .dataframe thead th {\n",
       "        text-align: right;\n",
       "    }\n",
       "</style>\n",
       "<table border=\"1\" class=\"dataframe\">\n",
       "  <thead>\n",
       "    <tr style=\"text-align: right;\">\n",
       "      <th></th>\n",
       "      <th>cross validtion score</th>\n",
       "      <th>test score</th>\n",
       "    </tr>\n",
       "  </thead>\n",
       "  <tbody>\n",
       "    <tr>\n",
       "      <th>SVR</th>\n",
       "      <td>0.876376</td>\n",
       "      <td>0.890756</td>\n",
       "    </tr>\n",
       "    <tr>\n",
       "      <th>Random Forest Regressor</th>\n",
       "      <td>0.915755</td>\n",
       "      <td>0.932868</td>\n",
       "    </tr>\n",
       "    <tr>\n",
       "      <th>Ridge</th>\n",
       "      <td>0.836590</td>\n",
       "      <td>0.864475</td>\n",
       "    </tr>\n",
       "    <tr>\n",
       "      <th>Gradient Boosting Regressor</th>\n",
       "      <td>0.924842</td>\n",
       "      <td>0.937040</td>\n",
       "    </tr>\n",
       "    <tr>\n",
       "      <th>KNN</th>\n",
       "      <td>0.822718</td>\n",
       "      <td>0.851965</td>\n",
       "    </tr>\n",
       "  </tbody>\n",
       "</table>\n",
       "</div>"
      ],
      "text/plain": [
       "                             cross validtion score  test score\n",
       "SVR                                       0.876376    0.890756\n",
       "Random Forest Regressor                   0.915755    0.932868\n",
       "Ridge                                     0.836590    0.864475\n",
       "Gradient Boosting Regressor               0.924842    0.937040\n",
       "KNN                                       0.822718    0.851965"
      ]
     },
     "execution_count": 38,
     "metadata": {},
     "output_type": "execute_result"
    }
   ],
   "source": [
    "result"
   ]
  },
  {
   "cell_type": "code",
   "execution_count": null,
   "id": "f8ff46ad",
   "metadata": {
    "papermill": {
     "duration": 0.020547,
     "end_time": "2023-05-16T05:13:42.369077",
     "exception": false,
     "start_time": "2023-05-16T05:13:42.348530",
     "status": "completed"
    },
    "tags": []
   },
   "outputs": [],
   "source": []
  }
 ],
 "metadata": {
  "kernelspec": {
   "display_name": "Python 3",
   "language": "python",
   "name": "python3"
  },
  "language_info": {
   "codemirror_mode": {
    "name": "ipython",
    "version": 3
   },
   "file_extension": ".py",
   "mimetype": "text/x-python",
   "name": "python",
   "nbconvert_exporter": "python",
   "pygments_lexer": "ipython3",
   "version": "3.10.10"
  },
  "papermill": {
   "default_parameters": {},
   "duration": 626.232847,
   "end_time": "2023-05-16T05:13:43.514998",
   "environment_variables": {},
   "exception": null,
   "input_path": "__notebook__.ipynb",
   "output_path": "__notebook__.ipynb",
   "parameters": {},
   "start_time": "2023-05-16T05:03:17.282151",
   "version": "2.4.0"
  }
 },
 "nbformat": 4,
 "nbformat_minor": 5
}
